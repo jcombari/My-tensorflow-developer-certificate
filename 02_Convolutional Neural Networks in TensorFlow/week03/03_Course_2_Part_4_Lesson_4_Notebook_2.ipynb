{
  "nbformat": 4,
  "nbformat_minor": 0,
  "metadata": {
    "accelerator": "GPU",
    "colab": {
      "name": "Course 2 - Part 4 - Lesson 4 - Notebook.ipynb",
      "provenance": [],
      "collapsed_sections": [],
      "toc_visible": true
    },
    "kernelspec": {
      "display_name": "Python 3",
      "name": "python3"
    }
  },
  "cells": [
    {
      "cell_type": "markdown",
      "metadata": {
        "id": "rX8mhOLljYeM"
      },
      "source": [
        "##### Copyright 2019 The TensorFlow Authors."
      ]
    },
    {
      "cell_type": "code",
      "metadata": {
        "cellView": "form",
        "id": "BZSlp3DAjdYf"
      },
      "source": [
        "#@title Licensed under the Apache License, Version 2.0 (the \"License\");\n",
        "# you may not use this file except in compliance with the License.\n",
        "# You may obtain a copy of the License at\n",
        "#\n",
        "# https://www.apache.org/licenses/LICENSE-2.0\n",
        "#\n",
        "# Unless required by applicable law or agreed to in writing, software\n",
        "# distributed under the License is distributed on an \"AS IS\" BASIS,\n",
        "# WITHOUT WARRANTIES OR CONDITIONS OF ANY KIND, either express or implied.\n",
        "# See the License for the specific language governing permissions and\n",
        "# limitations under the License."
      ],
      "execution_count": 1,
      "outputs": []
    },
    {
      "cell_type": "code",
      "metadata": {
        "colab": {
          "base_uri": "https://localhost:8080/"
        },
        "id": "RXZT2UsyIVe_",
        "outputId": "0d412111-4d2c-4ca2-985f-ec0cee8408a5"
      },
      "source": [
        "!wget --no-check-certificate \\\n",
        "    https://storage.googleapis.com/laurencemoroney-blog.appspot.com/horse-or-human.zip \\\n",
        "    -O /tmp/horse-or-human.zip\n",
        "\n",
        "!wget --no-check-certificate \\\n",
        "    https://storage.googleapis.com/laurencemoroney-blog.appspot.com/validation-horse-or-human.zip \\\n",
        "    -O /tmp/validation-horse-or-human.zip\n",
        "  \n",
        "import os\n",
        "import zipfile\n",
        "\n",
        "local_zip = '/tmp/horse-or-human.zip'\n",
        "zip_ref = zipfile.ZipFile(local_zip, 'r')\n",
        "zip_ref.extractall('/tmp/horse-or-human')\n",
        "local_zip = '/tmp/validation-horse-or-human.zip'\n",
        "zip_ref = zipfile.ZipFile(local_zip, 'r')\n",
        "zip_ref.extractall('/tmp/validation-horse-or-human')\n",
        "zip_ref.close()\n",
        "# Directory with our training horse pictures\n",
        "train_horse_dir = os.path.join('/tmp/horse-or-human/horses')\n",
        "\n",
        "# Directory with our training human pictures\n",
        "train_human_dir = os.path.join('/tmp/horse-or-human/humans')\n",
        "\n",
        "# Directory with our training horse pictures\n",
        "validation_horse_dir = os.path.join('/tmp/validation-horse-or-human/horses')\n",
        "\n",
        "# Directory with our training human pictures\n",
        "validation_human_dir = os.path.join('/tmp/validation-horse-or-human/humans')"
      ],
      "execution_count": 2,
      "outputs": [
        {
          "output_type": "stream",
          "text": [
            "--2021-04-23 01:28:32--  https://storage.googleapis.com/laurencemoroney-blog.appspot.com/horse-or-human.zip\n",
            "Resolving storage.googleapis.com (storage.googleapis.com)... 172.217.7.144, 172.217.13.240, 172.217.15.80, ...\n",
            "Connecting to storage.googleapis.com (storage.googleapis.com)|172.217.7.144|:443... connected.\n",
            "HTTP request sent, awaiting response... 200 OK\n",
            "Length: 149574867 (143M) [application/zip]\n",
            "Saving to: ‘/tmp/horse-or-human.zip’\n",
            "\n",
            "/tmp/horse-or-human 100%[===================>] 142.65M   209MB/s    in 0.7s    \n",
            "\n",
            "2021-04-23 01:28:33 (209 MB/s) - ‘/tmp/horse-or-human.zip’ saved [149574867/149574867]\n",
            "\n",
            "--2021-04-23 01:28:33--  https://storage.googleapis.com/laurencemoroney-blog.appspot.com/validation-horse-or-human.zip\n",
            "Resolving storage.googleapis.com (storage.googleapis.com)... 172.253.63.128, 142.250.31.128, 172.217.7.144, ...\n",
            "Connecting to storage.googleapis.com (storage.googleapis.com)|172.253.63.128|:443... connected.\n",
            "HTTP request sent, awaiting response... 200 OK\n",
            "Length: 11480187 (11M) [application/zip]\n",
            "Saving to: ‘/tmp/validation-horse-or-human.zip’\n",
            "\n",
            "/tmp/validation-hor 100%[===================>]  10.95M  66.4MB/s    in 0.2s    \n",
            "\n",
            "2021-04-23 01:28:33 (66.4 MB/s) - ‘/tmp/validation-horse-or-human.zip’ saved [11480187/11480187]\n",
            "\n"
          ],
          "name": "stdout"
        }
      ]
    },
    {
      "cell_type": "markdown",
      "metadata": {
        "id": "5oqBkNBJmtUv"
      },
      "source": [
        "## Building a Small Model from Scratch\n",
        "\n",
        "But before we continue, let's start defining the model:\n",
        "\n",
        "Step 1 will be to import tensorflow."
      ]
    },
    {
      "cell_type": "code",
      "metadata": {
        "id": "qvfZg3LQbD-5"
      },
      "source": [
        "import tensorflow as tf"
      ],
      "execution_count": 3,
      "outputs": []
    },
    {
      "cell_type": "markdown",
      "metadata": {
        "id": "BnhYCP4tdqjC"
      },
      "source": [
        "We then add convolutional layers as in the previous example, and flatten the final result to feed into the densely connected layers."
      ]
    },
    {
      "cell_type": "markdown",
      "metadata": {
        "id": "gokG5HKpdtzm"
      },
      "source": [
        "Finally we add the densely connected layers. \n",
        "\n",
        "Note that because we are facing a two-class classification problem, i.e. a *binary classification problem*, we will end our network with a [*sigmoid* activation](https://wikipedia.org/wiki/Sigmoid_function), so that the output of our network will be a single scalar between 0 and 1, encoding the probability that the current image is class 1 (as opposed to class 0)."
      ]
    },
    {
      "cell_type": "code",
      "metadata": {
        "id": "PixZ2s5QbYQ3"
      },
      "source": [
        "model = tf.keras.models.Sequential([\n",
        "    # Note the input shape is the desired size of the image 300x300 with 3 bytes color\n",
        "    # This is the first convolution\n",
        "    tf.keras.layers.Conv2D(16, (3,3), activation='relu', input_shape=(300, 300, 3)),\n",
        "    tf.keras.layers.MaxPooling2D(2, 2),\n",
        "    # The second convolution\n",
        "    tf.keras.layers.Conv2D(32, (3,3), activation='relu'),\n",
        "    tf.keras.layers.MaxPooling2D(2,2),\n",
        "    # The third convolution\n",
        "    tf.keras.layers.Conv2D(64, (3,3), activation='relu'),\n",
        "    tf.keras.layers.MaxPooling2D(2,2),\n",
        "    # The fourth convolution\n",
        "    tf.keras.layers.Conv2D(64, (3,3), activation='relu'),\n",
        "    tf.keras.layers.MaxPooling2D(2,2),\n",
        "    # The fifth convolution\n",
        "    tf.keras.layers.Conv2D(64, (3,3), activation='relu'),\n",
        "    tf.keras.layers.MaxPooling2D(2,2),\n",
        "    # Flatten the results to feed into a DNN\n",
        "    tf.keras.layers.Flatten(),\n",
        "    # 512 neuron hidden layer\n",
        "    tf.keras.layers.Dense(512, activation='relu'),\n",
        "    # Only 1 output neuron. It will contain a value from 0-1 where 0 for 1 class ('horses') and 1 for the other ('humans')\n",
        "    tf.keras.layers.Dense(1, activation='sigmoid')\n",
        "])"
      ],
      "execution_count": 4,
      "outputs": []
    },
    {
      "cell_type": "code",
      "metadata": {
        "id": "8DHWhFP_uhq3"
      },
      "source": [
        "from tensorflow.keras.optimizers import RMSprop\n",
        "\n",
        "model.compile(loss='binary_crossentropy',\n",
        "              optimizer=RMSprop(lr=1e-4),\n",
        "              metrics=['accuracy'])"
      ],
      "execution_count": 5,
      "outputs": []
    },
    {
      "cell_type": "code",
      "metadata": {
        "colab": {
          "base_uri": "https://localhost:8080/"
        },
        "id": "ClebU9NJg99G",
        "outputId": "dd40e6d0-e971-4baa-882e-50eeb9b89571"
      },
      "source": [
        "from tensorflow.keras.preprocessing.image import ImageDataGenerator\n",
        "\n",
        "# All images will be rescaled by 1./255\n",
        "train_datagen = ImageDataGenerator(\n",
        "      rescale=1./255,\n",
        "      rotation_range=40,\n",
        "      width_shift_range=0.2,\n",
        "      height_shift_range=0.2,\n",
        "      shear_range=0.2,\n",
        "      zoom_range=0.2,\n",
        "      horizontal_flip=True,\n",
        "      fill_mode='nearest')\n",
        "\n",
        "validation_datagen = ImageDataGenerator(rescale=1/255)\n",
        "\n",
        "# Flow training images in batches of 128 using train_datagen generator\n",
        "train_generator = train_datagen.flow_from_directory(\n",
        "        '/tmp/horse-or-human/',  # This is the source directory for training images\n",
        "        target_size=(300, 300),  # All images will be resized to 150x150\n",
        "        batch_size=128,\n",
        "        # Since we use binary_crossentropy loss, we need binary labels\n",
        "        class_mode='binary')\n",
        "\n",
        "# Flow training images in batches of 128 using train_datagen generator\n",
        "validation_generator = validation_datagen.flow_from_directory(\n",
        "        '/tmp/validation-horse-or-human/',  # This is the source directory for training images\n",
        "        target_size=(300, 300),  # All images will be resized to 150x150\n",
        "        batch_size=32,\n",
        "        # Since we use binary_crossentropy loss, we need binary labels\n",
        "        class_mode='binary')"
      ],
      "execution_count": 6,
      "outputs": [
        {
          "output_type": "stream",
          "text": [
            "Found 1027 images belonging to 2 classes.\n",
            "Found 256 images belonging to 2 classes.\n"
          ],
          "name": "stdout"
        }
      ]
    },
    {
      "cell_type": "code",
      "metadata": {
        "colab": {
          "base_uri": "https://localhost:8080/"
        },
        "id": "Fb1_lgobv81m",
        "outputId": "5dafc055-7011-4edf-c6ad-78693992a54b"
      },
      "source": [
        "history = model.fit(\n",
        "      train_generator,\n",
        "      steps_per_epoch=8,  \n",
        "      epochs=100,\n",
        "      verbose=1,\n",
        "      validation_data = validation_generator,\n",
        "      validation_steps=8)"
      ],
      "execution_count": 7,
      "outputs": [
        {
          "output_type": "stream",
          "text": [
            "Epoch 1/100\n",
            "8/8 [==============================] - 55s 3s/step - loss: 0.6874 - accuracy: 0.5225 - val_loss: 0.6814 - val_accuracy: 0.5000\n",
            "Epoch 2/100\n",
            "8/8 [==============================] - 22s 3s/step - loss: 0.6461 - accuracy: 0.6910 - val_loss: 0.7020 - val_accuracy: 0.5000\n",
            "Epoch 3/100\n",
            "8/8 [==============================] - 24s 3s/step - loss: 0.5929 - accuracy: 0.7147 - val_loss: 0.6272 - val_accuracy: 0.5703\n",
            "Epoch 4/100\n",
            "8/8 [==============================] - 24s 3s/step - loss: 0.5723 - accuracy: 0.7126 - val_loss: 0.6596 - val_accuracy: 0.5352\n",
            "Epoch 5/100\n",
            "8/8 [==============================] - 22s 3s/step - loss: 0.5487 - accuracy: 0.7344 - val_loss: 0.6929 - val_accuracy: 0.5391\n",
            "Epoch 6/100\n",
            "8/8 [==============================] - 22s 3s/step - loss: 0.5112 - accuracy: 0.7440 - val_loss: 1.0696 - val_accuracy: 0.5000\n",
            "Epoch 7/100\n",
            "8/8 [==============================] - 22s 3s/step - loss: 0.5451 - accuracy: 0.7585 - val_loss: 0.8293 - val_accuracy: 0.5430\n",
            "Epoch 8/100\n",
            "8/8 [==============================] - 22s 3s/step - loss: 0.4776 - accuracy: 0.8013 - val_loss: 0.8844 - val_accuracy: 0.5469\n",
            "Epoch 9/100\n",
            "8/8 [==============================] - 22s 3s/step - loss: 0.4764 - accuracy: 0.7761 - val_loss: 0.9567 - val_accuracy: 0.5352\n",
            "Epoch 10/100\n",
            "8/8 [==============================] - 22s 3s/step - loss: 0.4757 - accuracy: 0.7912 - val_loss: 1.2047 - val_accuracy: 0.5352\n",
            "Epoch 11/100\n",
            "8/8 [==============================] - 22s 3s/step - loss: 0.4544 - accuracy: 0.7801 - val_loss: 0.6053 - val_accuracy: 0.7070\n",
            "Epoch 12/100\n",
            "8/8 [==============================] - 22s 3s/step - loss: 0.4403 - accuracy: 0.7825 - val_loss: 1.2148 - val_accuracy: 0.5469\n",
            "Epoch 13/100\n",
            "8/8 [==============================] - 22s 3s/step - loss: 0.5020 - accuracy: 0.7674 - val_loss: 1.0383 - val_accuracy: 0.5469\n",
            "Epoch 14/100\n",
            "8/8 [==============================] - 22s 3s/step - loss: 0.4311 - accuracy: 0.8093 - val_loss: 1.2481 - val_accuracy: 0.5469\n",
            "Epoch 15/100\n",
            "8/8 [==============================] - 22s 3s/step - loss: 0.4079 - accuracy: 0.8255 - val_loss: 1.5190 - val_accuracy: 0.5430\n",
            "Epoch 16/100\n",
            "8/8 [==============================] - 22s 3s/step - loss: 0.3987 - accuracy: 0.8218 - val_loss: 1.5334 - val_accuracy: 0.5391\n",
            "Epoch 17/100\n",
            "8/8 [==============================] - 24s 3s/step - loss: 0.3899 - accuracy: 0.8198 - val_loss: 1.6909 - val_accuracy: 0.5352\n",
            "Epoch 18/100\n",
            "8/8 [==============================] - 22s 3s/step - loss: 0.3828 - accuracy: 0.8137 - val_loss: 2.6556 - val_accuracy: 0.5000\n",
            "Epoch 19/100\n",
            "8/8 [==============================] - 22s 3s/step - loss: 0.4206 - accuracy: 0.8034 - val_loss: 1.3246 - val_accuracy: 0.5781\n",
            "Epoch 20/100\n",
            "8/8 [==============================] - 22s 3s/step - loss: 0.3390 - accuracy: 0.8581 - val_loss: 1.7592 - val_accuracy: 0.5430\n",
            "Epoch 21/100\n",
            "8/8 [==============================] - 22s 3s/step - loss: 0.3372 - accuracy: 0.8497 - val_loss: 2.0349 - val_accuracy: 0.5352\n",
            "Epoch 22/100\n",
            "8/8 [==============================] - 22s 3s/step - loss: 0.3685 - accuracy: 0.8425 - val_loss: 1.5505 - val_accuracy: 0.5625\n",
            "Epoch 23/100\n",
            "8/8 [==============================] - 22s 3s/step - loss: 0.3048 - accuracy: 0.8757 - val_loss: 1.7491 - val_accuracy: 0.5625\n",
            "Epoch 24/100\n",
            "8/8 [==============================] - 22s 3s/step - loss: 0.3782 - accuracy: 0.8297 - val_loss: 1.7804 - val_accuracy: 0.5586\n",
            "Epoch 25/100\n",
            "8/8 [==============================] - 22s 3s/step - loss: 0.3041 - accuracy: 0.8736 - val_loss: 2.2066 - val_accuracy: 0.5430\n",
            "Epoch 26/100\n",
            "8/8 [==============================] - 22s 3s/step - loss: 0.3229 - accuracy: 0.8617 - val_loss: 1.5508 - val_accuracy: 0.5586\n",
            "Epoch 27/100\n",
            "8/8 [==============================] - 21s 3s/step - loss: 0.3148 - accuracy: 0.8669 - val_loss: 1.8708 - val_accuracy: 0.5508\n",
            "Epoch 28/100\n",
            "8/8 [==============================] - 22s 3s/step - loss: 0.2943 - accuracy: 0.8887 - val_loss: 2.5997 - val_accuracy: 0.5195\n",
            "Epoch 29/100\n",
            "8/8 [==============================] - 24s 3s/step - loss: 0.3292 - accuracy: 0.8604 - val_loss: 1.9127 - val_accuracy: 0.5547\n",
            "Epoch 30/100\n",
            "8/8 [==============================] - 24s 3s/step - loss: 0.2634 - accuracy: 0.8957 - val_loss: 2.1209 - val_accuracy: 0.5625\n",
            "Epoch 31/100\n",
            "8/8 [==============================] - 22s 3s/step - loss: 0.3196 - accuracy: 0.8464 - val_loss: 2.6484 - val_accuracy: 0.5195\n",
            "Epoch 32/100\n",
            "8/8 [==============================] - 22s 3s/step - loss: 0.2484 - accuracy: 0.8956 - val_loss: 1.7720 - val_accuracy: 0.5859\n",
            "Epoch 33/100\n",
            "8/8 [==============================] - 22s 3s/step - loss: 0.2844 - accuracy: 0.8766 - val_loss: 1.8928 - val_accuracy: 0.5391\n",
            "Epoch 34/100\n",
            "8/8 [==============================] - 22s 3s/step - loss: 0.3037 - accuracy: 0.8765 - val_loss: 1.9235 - val_accuracy: 0.5742\n",
            "Epoch 35/100\n",
            "8/8 [==============================] - 22s 3s/step - loss: 0.2639 - accuracy: 0.8845 - val_loss: 1.9445 - val_accuracy: 0.5820\n",
            "Epoch 36/100\n",
            "8/8 [==============================] - 22s 3s/step - loss: 0.3313 - accuracy: 0.8789 - val_loss: 2.3402 - val_accuracy: 0.5586\n",
            "Epoch 37/100\n",
            "8/8 [==============================] - 22s 3s/step - loss: 0.2428 - accuracy: 0.8969 - val_loss: 2.0547 - val_accuracy: 0.5742\n",
            "Epoch 38/100\n",
            "8/8 [==============================] - 22s 3s/step - loss: 0.2387 - accuracy: 0.9049 - val_loss: 1.8513 - val_accuracy: 0.6133\n",
            "Epoch 39/100\n",
            "8/8 [==============================] - 22s 3s/step - loss: 0.2952 - accuracy: 0.8702 - val_loss: 2.0608 - val_accuracy: 0.5820\n",
            "Epoch 40/100\n",
            "8/8 [==============================] - 22s 3s/step - loss: 0.2742 - accuracy: 0.8963 - val_loss: 2.7031 - val_accuracy: 0.5312\n",
            "Epoch 41/100\n",
            "8/8 [==============================] - 22s 3s/step - loss: 0.2895 - accuracy: 0.8597 - val_loss: 2.6714 - val_accuracy: 0.5508\n",
            "Epoch 42/100\n",
            "8/8 [==============================] - 22s 3s/step - loss: 0.2421 - accuracy: 0.9133 - val_loss: 2.2307 - val_accuracy: 0.5820\n",
            "Epoch 43/100\n",
            "8/8 [==============================] - 22s 3s/step - loss: 0.2090 - accuracy: 0.9210 - val_loss: 3.0403 - val_accuracy: 0.5117\n",
            "Epoch 44/100\n",
            "8/8 [==============================] - 21s 3s/step - loss: 0.2646 - accuracy: 0.8851 - val_loss: 1.7309 - val_accuracy: 0.6406\n",
            "Epoch 45/100\n",
            "8/8 [==============================] - 24s 3s/step - loss: 0.2485 - accuracy: 0.9064 - val_loss: 3.3612 - val_accuracy: 0.5156\n",
            "Epoch 46/100\n",
            "8/8 [==============================] - 21s 3s/step - loss: 0.2403 - accuracy: 0.9054 - val_loss: 3.3869 - val_accuracy: 0.5195\n",
            "Epoch 47/100\n",
            "8/8 [==============================] - 22s 3s/step - loss: 0.3007 - accuracy: 0.8652 - val_loss: 2.2447 - val_accuracy: 0.5859\n",
            "Epoch 48/100\n",
            "8/8 [==============================] - 21s 3s/step - loss: 0.2023 - accuracy: 0.9227 - val_loss: 3.4088 - val_accuracy: 0.5078\n",
            "Epoch 49/100\n",
            "8/8 [==============================] - 24s 3s/step - loss: 0.2561 - accuracy: 0.8908 - val_loss: 1.7874 - val_accuracy: 0.6133\n",
            "Epoch 50/100\n",
            "8/8 [==============================] - 24s 3s/step - loss: 0.2197 - accuracy: 0.9128 - val_loss: 2.7003 - val_accuracy: 0.5625\n",
            "Epoch 51/100\n",
            "8/8 [==============================] - 21s 3s/step - loss: 0.2469 - accuracy: 0.8978 - val_loss: 2.1469 - val_accuracy: 0.5703\n",
            "Epoch 52/100\n",
            "8/8 [==============================] - 22s 3s/step - loss: 0.1940 - accuracy: 0.9297 - val_loss: 3.9057 - val_accuracy: 0.5039\n",
            "Epoch 53/100\n",
            "8/8 [==============================] - 21s 3s/step - loss: 0.1797 - accuracy: 0.9477 - val_loss: 3.4613 - val_accuracy: 0.5273\n",
            "Epoch 54/100\n",
            "8/8 [==============================] - 22s 3s/step - loss: 0.2171 - accuracy: 0.9042 - val_loss: 2.9180 - val_accuracy: 0.5508\n",
            "Epoch 55/100\n",
            "8/8 [==============================] - 24s 3s/step - loss: 0.2034 - accuracy: 0.9183 - val_loss: 1.4749 - val_accuracy: 0.6797\n",
            "Epoch 56/100\n",
            "8/8 [==============================] - 22s 3s/step - loss: 0.2206 - accuracy: 0.8971 - val_loss: 3.7550 - val_accuracy: 0.5117\n",
            "Epoch 57/100\n",
            "8/8 [==============================] - 22s 3s/step - loss: 0.2804 - accuracy: 0.8807 - val_loss: 3.0760 - val_accuracy: 0.5352\n",
            "Epoch 58/100\n",
            "8/8 [==============================] - 21s 3s/step - loss: 0.2960 - accuracy: 0.8854 - val_loss: 2.8963 - val_accuracy: 0.5469\n",
            "Epoch 59/100\n",
            "8/8 [==============================] - 22s 3s/step - loss: 0.1800 - accuracy: 0.9358 - val_loss: 1.9542 - val_accuracy: 0.6172\n",
            "Epoch 60/100\n",
            "8/8 [==============================] - 22s 3s/step - loss: 0.2162 - accuracy: 0.9136 - val_loss: 3.1783 - val_accuracy: 0.5469\n",
            "Epoch 61/100\n",
            "8/8 [==============================] - 21s 3s/step - loss: 0.1630 - accuracy: 0.9370 - val_loss: 2.0953 - val_accuracy: 0.6094\n",
            "Epoch 62/100\n",
            "8/8 [==============================] - 24s 3s/step - loss: 0.1643 - accuracy: 0.9279 - val_loss: 2.3321 - val_accuracy: 0.6094\n",
            "Epoch 63/100\n",
            "8/8 [==============================] - 21s 3s/step - loss: 0.1947 - accuracy: 0.9224 - val_loss: 2.6716 - val_accuracy: 0.5703\n",
            "Epoch 64/100\n",
            "8/8 [==============================] - 21s 3s/step - loss: 0.1832 - accuracy: 0.9201 - val_loss: 3.4551 - val_accuracy: 0.5430\n",
            "Epoch 65/100\n",
            "8/8 [==============================] - 21s 3s/step - loss: 0.1433 - accuracy: 0.9453 - val_loss: 2.6758 - val_accuracy: 0.5977\n",
            "Epoch 66/100\n",
            "8/8 [==============================] - 21s 3s/step - loss: 0.1559 - accuracy: 0.9400 - val_loss: 3.9713 - val_accuracy: 0.5156\n",
            "Epoch 67/100\n",
            "8/8 [==============================] - 22s 3s/step - loss: 0.1616 - accuracy: 0.9298 - val_loss: 2.6803 - val_accuracy: 0.5977\n",
            "Epoch 68/100\n",
            "8/8 [==============================] - 22s 3s/step - loss: 0.1651 - accuracy: 0.9288 - val_loss: 2.1378 - val_accuracy: 0.6172\n",
            "Epoch 69/100\n",
            "8/8 [==============================] - 22s 3s/step - loss: 0.1567 - accuracy: 0.9328 - val_loss: 4.5830 - val_accuracy: 0.5039\n",
            "Epoch 70/100\n",
            "8/8 [==============================] - 21s 3s/step - loss: 0.1503 - accuracy: 0.9420 - val_loss: 3.9003 - val_accuracy: 0.5391\n",
            "Epoch 71/100\n",
            "8/8 [==============================] - 21s 3s/step - loss: 0.1479 - accuracy: 0.9448 - val_loss: 2.2311 - val_accuracy: 0.6055\n",
            "Epoch 72/100\n",
            "8/8 [==============================] - 21s 3s/step - loss: 0.1782 - accuracy: 0.9302 - val_loss: 3.5635 - val_accuracy: 0.5391\n",
            "Epoch 73/100\n",
            "8/8 [==============================] - 21s 3s/step - loss: 0.1375 - accuracy: 0.9449 - val_loss: 4.5033 - val_accuracy: 0.5273\n",
            "Epoch 74/100\n",
            "8/8 [==============================] - 21s 3s/step - loss: 0.1270 - accuracy: 0.9520 - val_loss: 3.5379 - val_accuracy: 0.5430\n",
            "Epoch 75/100\n",
            "8/8 [==============================] - 21s 3s/step - loss: 0.1605 - accuracy: 0.9390 - val_loss: 3.2170 - val_accuracy: 0.5742\n",
            "Epoch 76/100\n",
            "8/8 [==============================] - 22s 3s/step - loss: 0.1566 - accuracy: 0.9367 - val_loss: 4.9567 - val_accuracy: 0.5078\n",
            "Epoch 77/100\n",
            "8/8 [==============================] - 21s 3s/step - loss: 0.2058 - accuracy: 0.9349 - val_loss: 3.3887 - val_accuracy: 0.5859\n",
            "Epoch 78/100\n",
            "8/8 [==============================] - 22s 3s/step - loss: 0.1960 - accuracy: 0.9090 - val_loss: 2.6276 - val_accuracy: 0.5859\n",
            "Epoch 79/100\n",
            "8/8 [==============================] - 22s 3s/step - loss: 0.1352 - accuracy: 0.9452 - val_loss: 3.1564 - val_accuracy: 0.5625\n",
            "Epoch 80/100\n",
            "8/8 [==============================] - 22s 3s/step - loss: 0.1182 - accuracy: 0.9585 - val_loss: 4.1886 - val_accuracy: 0.5195\n",
            "Epoch 81/100\n",
            "8/8 [==============================] - 22s 3s/step - loss: 0.1454 - accuracy: 0.9305 - val_loss: 3.6254 - val_accuracy: 0.5547\n",
            "Epoch 82/100\n",
            "8/8 [==============================] - 22s 3s/step - loss: 0.1080 - accuracy: 0.9570 - val_loss: 3.2824 - val_accuracy: 0.5820\n",
            "Epoch 83/100\n",
            "8/8 [==============================] - 22s 3s/step - loss: 0.1778 - accuracy: 0.9222 - val_loss: 4.2303 - val_accuracy: 0.5312\n",
            "Epoch 84/100\n",
            "8/8 [==============================] - 21s 3s/step - loss: 0.1041 - accuracy: 0.9627 - val_loss: 3.2940 - val_accuracy: 0.5820\n",
            "Epoch 85/100\n",
            "8/8 [==============================] - 22s 3s/step - loss: 0.1027 - accuracy: 0.9587 - val_loss: 1.1997 - val_accuracy: 0.7578\n",
            "Epoch 86/100\n",
            "8/8 [==============================] - 21s 3s/step - loss: 0.4740 - accuracy: 0.8795 - val_loss: 3.0804 - val_accuracy: 0.5781\n",
            "Epoch 87/100\n",
            "8/8 [==============================] - 21s 3s/step - loss: 0.1013 - accuracy: 0.9638 - val_loss: 3.5796 - val_accuracy: 0.5703\n",
            "Epoch 88/100\n",
            "8/8 [==============================] - 21s 3s/step - loss: 0.0953 - accuracy: 0.9587 - val_loss: 3.6901 - val_accuracy: 0.5664\n",
            "Epoch 89/100\n",
            "8/8 [==============================] - 21s 3s/step - loss: 0.0980 - accuracy: 0.9635 - val_loss: 4.5449 - val_accuracy: 0.5312\n",
            "Epoch 90/100\n",
            "8/8 [==============================] - 21s 3s/step - loss: 0.1560 - accuracy: 0.9345 - val_loss: 4.4278 - val_accuracy: 0.5391\n",
            "Epoch 91/100\n",
            "8/8 [==============================] - 21s 3s/step - loss: 0.1185 - accuracy: 0.9553 - val_loss: 3.3041 - val_accuracy: 0.5898\n",
            "Epoch 92/100\n",
            "8/8 [==============================] - 21s 3s/step - loss: 0.1050 - accuracy: 0.9675 - val_loss: 3.9035 - val_accuracy: 0.5586\n",
            "Epoch 93/100\n",
            "8/8 [==============================] - 23s 3s/step - loss: 0.1077 - accuracy: 0.9603 - val_loss: 4.5749 - val_accuracy: 0.5312\n",
            "Epoch 94/100\n",
            "8/8 [==============================] - 21s 3s/step - loss: 0.1087 - accuracy: 0.9606 - val_loss: 4.7975 - val_accuracy: 0.5156\n",
            "Epoch 95/100\n",
            "8/8 [==============================] - 21s 3s/step - loss: 0.1802 - accuracy: 0.9358 - val_loss: 3.9558 - val_accuracy: 0.5625\n",
            "Epoch 96/100\n",
            "8/8 [==============================] - 21s 3s/step - loss: 0.1004 - accuracy: 0.9684 - val_loss: 3.5707 - val_accuracy: 0.5703\n",
            "Epoch 97/100\n",
            "8/8 [==============================] - 21s 3s/step - loss: 0.1526 - accuracy: 0.9389 - val_loss: 3.6613 - val_accuracy: 0.5820\n",
            "Epoch 98/100\n",
            "8/8 [==============================] - 21s 3s/step - loss: 0.1113 - accuracy: 0.9548 - val_loss: 4.0371 - val_accuracy: 0.5469\n",
            "Epoch 99/100\n",
            "8/8 [==============================] - 21s 3s/step - loss: 0.1676 - accuracy: 0.9368 - val_loss: 3.6666 - val_accuracy: 0.5742\n",
            "Epoch 100/100\n",
            "8/8 [==============================] - 21s 3s/step - loss: 0.0967 - accuracy: 0.9796 - val_loss: 2.4930 - val_accuracy: 0.6094\n"
          ],
          "name": "stdout"
        }
      ]
    },
    {
      "cell_type": "code",
      "metadata": {
        "colab": {
          "base_uri": "https://localhost:8080/",
          "height": 545
        },
        "id": "7zNPRWOVJdOH",
        "outputId": "b97c2c62-c346-44be-9424-1d0c3dc3923f"
      },
      "source": [
        "import matplotlib.pyplot as plt\n",
        "acc = history.history['accuracy']\n",
        "val_acc = history.history['val_accuracy']\n",
        "loss = history.history['loss']\n",
        "val_loss = history.history['val_loss']\n",
        "\n",
        "epochs = range(len(acc))\n",
        "\n",
        "plt.plot(epochs, acc, 'r', label='Training accuracy')\n",
        "plt.plot(epochs, val_acc, 'b', label='Validation accuracy')\n",
        "plt.title('Training and validation accuracy')\n",
        "\n",
        "plt.figure()\n",
        "\n",
        "plt.plot(epochs, loss, 'r', label='Training Loss')\n",
        "plt.plot(epochs, val_loss, 'b', label='Validation Loss')\n",
        "plt.title('Training and validation loss')\n",
        "plt.legend()\n",
        "\n",
        "plt.show()"
      ],
      "execution_count": 8,
      "outputs": [
        {
          "output_type": "display_data",
          "data": {
            "image/png": "[encoded data removed]",
            "text/plain": [
              "<Figure size 432x288 with 1 Axes>"
            ]
          },
          "metadata": {
            "tags": [],
            "needs_background": "light"
          }
        },
        {
          "output_type": "display_data",
          "data": {
            "image/png": "[encoded data removed]",
            "text/plain": [
              "<Figure size 432x288 with 1 Axes>"
            ]
          },
          "metadata": {
            "tags": [],
            "needs_background": "light"
          }
        }
      ]
    }
  ]
}